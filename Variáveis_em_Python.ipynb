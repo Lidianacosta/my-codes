{
  "nbformat": 4,
  "nbformat_minor": 0,
  "metadata": {
    "colab": {
      "provenance": [],
      "authorship_tag": "ABX9TyPtcJcVflEs2lqpC/6tuhZB",
      "include_colab_link": true
    },
    "kernelspec": {
      "name": "python3",
      "display_name": "Python 3"
    },
    "language_info": {
      "name": "python"
    }
  },
  "cells": [
    {
      "cell_type": "markdown",
      "metadata": {
        "id": "view-in-github",
        "colab_type": "text"
      },
      "source": [
        "<a href=\"https://colab.research.google.com/github/Lidianacosta/my-codes/blob/main/Vari%C3%A1veis_em_Python.ipynb\" target=\"_parent\"><img src=\"https://colab.research.google.com/assets/colab-badge.svg\" alt=\"Open In Colab\"/></a>"
      ]
    },
    {
      "cell_type": "markdown",
      "source": [
        "#Declaração de variáveis"
      ],
      "metadata": {
        "id": "ys03OI7lDXMR"
      }
    },
    {
      "cell_type": "markdown",
      "source": [
        "#exemplo I\n"
      ],
      "metadata": {
        "id": "QCHj7D_YCjri"
      }
    },
    {
      "cell_type": "code",
      "execution_count": 1,
      "metadata": {
        "id": "L4bLOknJAxSH",
        "colab": {
          "base_uri": "https://localhost:8080/"
        },
        "outputId": "0b0da0e9-b910-4f1e-b4fc-43431aed80b9"
      },
      "outputs": [
        {
          "output_type": "stream",
          "name": "stdout",
          "text": [
            "5\n",
            "Hello, World!\n"
          ]
        }
      ],
      "source": [
        "x = 5\n",
        "y = \"Hello, World!\"\n",
        "print(x)\n",
        "print(y)"
      ]
    },
    {
      "cell_type": "markdown",
      "source": [
        "#exemplo II"
      ],
      "metadata": {
        "id": "hgkXTlrCDKi7"
      }
    },
    {
      "cell_type": "code",
      "source": [
        "x = 4  # x é do tipo int \n",
        "x = \"sally\"\n",
        "print(x)"
      ],
      "metadata": {
        "colab": {
          "base_uri": "https://localhost:8080/"
        },
        "id": "wpfv7gNICCja",
        "outputId": "972ec9aa-dbaa-419b-e293-c6a3e752085f"
      },
      "execution_count": 2,
      "outputs": [
        {
          "output_type": "stream",
          "name": "stdout",
          "text": [
            "sally\n"
          ]
        }
      ]
    },
    {
      "cell_type": "markdown",
      "source": [
        "#Tipos de variáveis em Python"
      ],
      "metadata": {
        "id": "dQjTCIWjDxQJ"
      }
    },
    {
      "cell_type": "markdown",
      "source": [
        "#Tipos numéricos\n",
        "\n"
      ],
      "metadata": {
        "id": "Nisi5-etD3oh"
      }
    },
    {
      "cell_type": "code",
      "source": [
        "x = 1   # int \n",
        "y = 2.8 # float\n",
        "z = 1j  # complex"
      ],
      "metadata": {
        "id": "bWaqjIktEPA6"
      },
      "execution_count": 5,
      "outputs": []
    },
    {
      "cell_type": "code",
      "source": [
        "print(x)\n",
        "print(y)\n",
        "print(z)"
      ],
      "metadata": {
        "colab": {
          "base_uri": "https://localhost:8080/"
        },
        "id": "lq17mOmVF5ap",
        "outputId": "5589255a-2ef0-469a-eecb-344b53276ffd"
      },
      "execution_count": 6,
      "outputs": [
        {
          "output_type": "stream",
          "name": "stdout",
          "text": [
            "1\n",
            "2.8\n",
            "1j\n"
          ]
        }
      ]
    },
    {
      "cell_type": "markdown",
      "source": [
        "#Tipos de sequência"
      ],
      "metadata": {
        "id": "3zd-BK8WEpGD"
      }
    },
    {
      "cell_type": "code",
      "source": [
        "x = [\"apple\",\"banana\",\"cherry\"] # list\n",
        "y = (\"apple\",\"banana\",\"cherry\") # tuple\n",
        "z = range(6)                    # range\n",
        "w = \"banana\"                    # str"
      ],
      "metadata": {
        "id": "10lJZNC1EytR"
      },
      "execution_count": 3,
      "outputs": []
    },
    {
      "cell_type": "code",
      "source": [
        "print(x)\n",
        "print(y)\n",
        "print(z)\n",
        "print(w)"
      ],
      "metadata": {
        "colab": {
          "base_uri": "https://localhost:8080/"
        },
        "id": "Pa7kEwoLFrur",
        "outputId": "490553fe-9ade-4cc7-e754-cb456fafed4e"
      },
      "execution_count": 4,
      "outputs": [
        {
          "output_type": "stream",
          "name": "stdout",
          "text": [
            "['apple', 'banana', 'cherry']\n",
            "('apple', 'banana', 'cherry')\n",
            "range(0, 6)\n",
            "banana\n"
          ]
        }
      ]
    },
    {
      "cell_type": "markdown",
      "source": [
        "#Tipos de mapeamento"
      ],
      "metadata": {
        "id": "Zqvgr7CvGIoj"
      }
    },
    {
      "cell_type": "code",
      "source": [
        "x = {\"name\" : \"john\", \"age\" : 36} # dict\n",
        "print(x)"
      ],
      "metadata": {
        "colab": {
          "base_uri": "https://localhost:8080/"
        },
        "id": "4Lo2HPIHGNjh",
        "outputId": "ce76ae81-c303-460d-eb4b-d4162a8ef2ca"
      },
      "execution_count": 19,
      "outputs": [
        {
          "output_type": "stream",
          "name": "stdout",
          "text": [
            "{'name': 'john', 'age': 36}\n"
          ]
        }
      ]
    },
    {
      "cell_type": "markdown",
      "source": [
        "#Tipos de conjunto"
      ],
      "metadata": {
        "id": "gFlTPr29G2HS"
      }
    },
    {
      "cell_type": "code",
      "source": [
        "x = {\"apple\", \"banana\", \"cherry\"} # set\n",
        "y = frozenset({\"apple\", \"banana\", \"cherry\"}) # frozenset"
      ],
      "metadata": {
        "id": "UVR3Oi9sG4FD"
      },
      "execution_count": 14,
      "outputs": []
    },
    {
      "cell_type": "code",
      "source": [
        "print(x)\n",
        "print(y)"
      ],
      "metadata": {
        "colab": {
          "base_uri": "https://localhost:8080/"
        },
        "id": "12EVTWJgHiCr",
        "outputId": "67a1bc11-8a8f-4a68-f297-c80aebc8c3ca"
      },
      "execution_count": 15,
      "outputs": [
        {
          "output_type": "stream",
          "name": "stdout",
          "text": [
            "{'banana', 'apple', 'cherry'}\n",
            "frozenset({'banana', 'apple', 'cherry'})\n"
          ]
        }
      ]
    },
    {
      "cell_type": "markdown",
      "source": [
        "#Tipos booleanos"
      ],
      "metadata": {
        "id": "WMPe5qzcH_Ej"
      }
    },
    {
      "cell_type": "code",
      "source": [
        "x = True     #bool\n",
        "y = False    #bool"
      ],
      "metadata": {
        "id": "6yeOsJwyIDz6"
      },
      "execution_count": 16,
      "outputs": []
    },
    {
      "cell_type": "code",
      "source": [
        "print(x)\n",
        "print(y)"
      ],
      "metadata": {
        "colab": {
          "base_uri": "https://localhost:8080/"
        },
        "id": "HMLsC5PCINGx",
        "outputId": "1d3b4e43-a9b7-4ce7-a291-eccba91ab6c2"
      },
      "execution_count": 17,
      "outputs": [
        {
          "output_type": "stream",
          "name": "stdout",
          "text": [
            "True\n",
            "False\n"
          ]
        }
      ]
    },
    {
      "cell_type": "markdown",
      "source": [
        "#Tipos binários"
      ],
      "metadata": {
        "id": "B-qnX82sIenp"
      }
    },
    {
      "cell_type": "code",
      "source": [
        "x = b\"Hello\"\n",
        "print(x)"
      ],
      "metadata": {
        "colab": {
          "base_uri": "https://localhost:8080/"
        },
        "id": "lgW0dFFWIlMz",
        "outputId": "7e4db59d-68ac-4e42-84ae-d26c6496dc8a"
      },
      "execution_count": 18,
      "outputs": [
        {
          "output_type": "stream",
          "name": "stdout",
          "text": [
            "b'Hello'\n"
          ]
        }
      ]
    },
    {
      "cell_type": "markdown",
      "source": [
        "#Tipos byte"
      ],
      "metadata": {
        "id": "L6apoxTII9CT"
      }
    },
    {
      "cell_type": "code",
      "source": [
        "x = bytearray(5)\n",
        "print(x)"
      ],
      "metadata": {
        "colab": {
          "base_uri": "https://localhost:8080/"
        },
        "id": "jdpwfGTHJBpj",
        "outputId": "88f2fc71-e125-47ce-cd13-8a183dc22bf8"
      },
      "execution_count": 20,
      "outputs": [
        {
          "output_type": "stream",
          "name": "stdout",
          "text": [
            "bytearray(b'\\x00\\x00\\x00\\x00\\x00')\n"
          ]
        }
      ]
    },
    {
      "cell_type": "markdown",
      "source": [
        "#Tipos de memória"
      ],
      "metadata": {
        "id": "JmMz7jdsJQeR"
      }
    },
    {
      "cell_type": "code",
      "source": [
        "x = memoryview(bytes(5))\n",
        "print(x)"
      ],
      "metadata": {
        "colab": {
          "base_uri": "https://localhost:8080/"
        },
        "id": "zDy_QFy7JWbC",
        "outputId": "f6cfa0f6-8cf5-4d87-d337-f61670a94017"
      },
      "execution_count": 21,
      "outputs": [
        {
          "output_type": "stream",
          "name": "stdout",
          "text": [
            "<memory at 0x7f732fc3b040>\n"
          ]
        }
      ]
    },
    {
      "cell_type": "markdown",
      "source": [
        "#Tipos de dados definidos pelo usuário"
      ],
      "metadata": {
        "id": "vZ2IEgjRJzuh"
      }
    },
    {
      "cell_type": "code",
      "source": [
        "class MyClass:\n",
        "  x = 5\n",
        "\n",
        "p1 = MyClass()\n",
        "print(p1.x)"
      ],
      "metadata": {
        "colab": {
          "base_uri": "https://localhost:8080/"
        },
        "id": "fvA2gmfVJ3yZ",
        "outputId": "6124e7fc-6431-4913-d289-a12a81005d44"
      },
      "execution_count": 22,
      "outputs": [
        {
          "output_type": "stream",
          "name": "stdout",
          "text": [
            "5\n"
          ]
        }
      ]
    },
    {
      "cell_type": "markdown",
      "source": [
        "#Variáveis globais"
      ],
      "metadata": {
        "id": "iWHFS78tKkFh"
      }
    },
    {
      "cell_type": "code",
      "source": [
        "x = \"awesome\"\n",
        "\n",
        "def myfunc():\n",
        "  print(\"Python is \" + x)\n",
        "\n",
        "myfunc()"
      ],
      "metadata": {
        "colab": {
          "base_uri": "https://localhost:8080/"
        },
        "id": "d4VkCnEyKnsK",
        "outputId": "6751c9b3-d4ce-454e-fcd7-2ebba989696a"
      },
      "execution_count": 23,
      "outputs": [
        {
          "output_type": "stream",
          "name": "stdout",
          "text": [
            "Python is awesome\n"
          ]
        }
      ]
    }
  ]
}